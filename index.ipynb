{
 "cells": [
  {
   "cell_type": "markdown",
   "metadata": {},
   "source": [
    "# JSON - Lab"
   ]
  },
  {
   "cell_type": "markdown",
   "metadata": {},
   "source": [
    "## Introduction\n",
    "\n",
    "In this lab, you'll practice navigating JSON data structures."
   ]
  },
  {
   "cell_type": "markdown",
   "metadata": {},
   "source": [
    "## Objectives\n",
    "You will be able to:\n",
    "* Use the JSON module to load and parse JSON documents"
   ]
  },
  {
   "cell_type": "markdown",
   "metadata": {},
   "source": [
    "## JSON"
   ]
  },
  {
   "cell_type": "markdown",
   "metadata": {},
   "source": [
    "### Open the dataset from json"
   ]
  },
  {
   "cell_type": "code",
   "execution_count": 1,
   "metadata": {},
   "outputs": [],
   "source": [
    "import json\n",
    "f = open('nyc_2001_campaign_finance.json')\n",
    "data = json.load(f)\n"
   ]
  },
  {
   "cell_type": "markdown",
   "metadata": {},
   "source": [
    "### What is the root data type of the json file?"
   ]
  },
  {
   "cell_type": "code",
   "execution_count": 2,
   "metadata": {},
   "outputs": [
    {
     "data": {
      "text/plain": [
       "dict"
      ]
     },
     "execution_count": 2,
     "metadata": {},
     "output_type": "execute_result"
    }
   ],
   "source": [
    "type(data)"
   ]
  },
  {
   "cell_type": "markdown",
   "metadata": {},
   "source": [
    "### Navigate to the 'data' key of your loaded json object. What data type is this?"
   ]
  },
  {
   "cell_type": "code",
   "execution_count": 3,
   "metadata": {},
   "outputs": [
    {
     "data": {
      "text/plain": [
       "list"
      ]
     },
     "execution_count": 3,
     "metadata": {},
     "output_type": "execute_result"
    }
   ],
   "source": [
    "#Your code here\n",
    "type(data['data'])"
   ]
  },
  {
   "cell_type": "markdown",
   "metadata": {},
   "source": [
    "### Preview the first entry from the value returned by the 'data' key above."
   ]
  },
  {
   "cell_type": "code",
   "execution_count": 4,
   "metadata": {},
   "outputs": [
    {
     "data": {
      "text/plain": [
       "[1,\n",
       " 'E3E9CC9F-7443-43F6-94AF-B5A0F802DBA1',\n",
       " 1,\n",
       " 1315925633,\n",
       " '392904',\n",
       " 1315925633,\n",
       " '392904',\n",
       " '{\\n  \"invalidCells\" : {\\n    \"1519001\" : \"TOTALPAY\",\\n    \"1518998\" : \"PRIMARYPAY\",\\n    \"1519000\" : \"RUNOFFPAY\",\\n    \"1518999\" : \"GENERALPAY\",\\n    \"1518994\" : \"OFFICECD\",\\n    \"1518996\" : \"OFFICEDIST\",\\n    \"1518991\" : \"ELECTION\"\\n  }\\n}',\n",
       " None,\n",
       " 'CANDID',\n",
       " 'CANDNAME',\n",
       " None,\n",
       " 'OFFICEBORO',\n",
       " None,\n",
       " 'CANCLASS',\n",
       " None,\n",
       " None,\n",
       " None,\n",
       " None]"
      ]
     },
     "execution_count": 4,
     "metadata": {},
     "output_type": "execute_result"
    }
   ],
   "source": [
    "#Your code here\n",
    "data['data'][0]"
   ]
  },
  {
   "cell_type": "markdown",
   "metadata": {},
   "source": [
    "### Preview the Entry under meta -> view -> columns (the keys of three successively nested dictionaries)"
   ]
  },
  {
   "cell_type": "code",
   "execution_count": 13,
   "metadata": {},
   "outputs": [
    {
     "data": {
      "text/plain": [
       "dict_values([{'id': '8dhd-zvi6', 'name': '2001 Campaign Payments', 'attribution': 'Campaign Finance Board (CFB)', 'averageRating': 0, 'category': 'City Government', 'createdAt': 1315950830, 'description': 'A listing of public funds payments for candidates for City office during the 2001 election cycle', 'displayType': 'table', 'downloadCount': 1470, 'hideFromCatalog': False, 'hideFromDataJson': False, 'indexUpdatedAt': 1536596254, 'newBackend': False, 'numberOfComments': 0, 'oid': 4140996, 'provenance': 'official', 'publicationAppendEnabled': False, 'publicationDate': 1371845179, 'publicationGroup': 240370, 'publicationStage': 'published', 'rowClass': '', 'rowsUpdatedAt': 1371845177, 'rowsUpdatedBy': '5fuc-pqz2', 'tableId': 932968, 'totalTimesRated': 0, 'viewCount': 233, 'viewLastModified': 1536605717, 'viewType': 'tabular', 'columns': [{'id': -1, 'name': 'sid', 'dataTypeName': 'meta_data', 'fieldName': ':sid', 'position': 0, 'renderTypeName': 'meta_data', 'format': {}, 'flags': ['hidden']}, {'id': -1, 'name': 'id', 'dataTypeName': 'meta_data', 'fieldName': ':id', 'position': 0, 'renderTypeName': 'meta_data', 'format': {}, 'flags': ['hidden']}, {'id': -1, 'name': 'position', 'dataTypeName': 'meta_data', 'fieldName': ':position', 'position': 0, 'renderTypeName': 'meta_data', 'format': {}, 'flags': ['hidden']}, {'id': -1, 'name': 'created_at', 'dataTypeName': 'meta_data', 'fieldName': ':created_at', 'position': 0, 'renderTypeName': 'meta_data', 'format': {}, 'flags': ['hidden']}, {'id': -1, 'name': 'created_meta', 'dataTypeName': 'meta_data', 'fieldName': ':created_meta', 'position': 0, 'renderTypeName': 'meta_data', 'format': {}, 'flags': ['hidden']}, {'id': -1, 'name': 'updated_at', 'dataTypeName': 'meta_data', 'fieldName': ':updated_at', 'position': 0, 'renderTypeName': 'meta_data', 'format': {}, 'flags': ['hidden']}, {'id': -1, 'name': 'updated_meta', 'dataTypeName': 'meta_data', 'fieldName': ':updated_meta', 'position': 0, 'renderTypeName': 'meta_data', 'format': {}, 'flags': ['hidden']}, {'id': -1, 'name': 'meta', 'dataTypeName': 'meta_data', 'fieldName': ':meta', 'position': 0, 'renderTypeName': 'meta_data', 'format': {}, 'flags': ['hidden']}, {'id': 75768833, 'name': 'ELECTION', 'dataTypeName': 'number', 'fieldName': 'election', 'position': 2, 'renderTypeName': 'number', 'tableColumnId': 1518991, 'width': 196, 'cachedContents': {'non_null': 284, 'average': '2001', 'largest': '2001', 'null': 1, 'top': [{'item': '2001', 'count': 20}], 'smallest': '2001', 'sum': '568284'}, 'format': {'precisionStyle': 'standard', 'noCommas': 'true', 'align': 'right'}}, {'id': 75768834, 'name': 'CANDID', 'dataTypeName': 'text', 'fieldName': 'candid', 'position': 3, 'renderTypeName': 'text', 'tableColumnId': 1518992, 'width': 172, 'cachedContents': {'non_null': 285, 'largest': 'YA', 'null': 0, 'top': [{'item': '490', 'count': 20}, {'item': '577', 'count': 19}, {'item': 'GF', 'count': 18}, {'item': '265', 'count': 17}, {'item': '549', 'count': 16}, {'item': '260', 'count': 15}, {'item': 'DH', 'count': 14}, {'item': '168', 'count': 13}, {'item': '561', 'count': 12}, {'item': '317', 'count': 11}, {'item': '240', 'count': 10}, {'item': 'B1', 'count': 9}, {'item': '337', 'count': 8}, {'item': '202', 'count': 7}, {'item': 'DP', 'count': 6}, {'item': '554', 'count': 5}, {'item': '529', 'count': 4}, {'item': '521', 'count': 3}, {'item': 'CY', 'count': 2}, {'item': '327', 'count': 1}], 'smallest': '148'}, 'format': {}}, {'id': 75768835, 'name': 'CANDNAME', 'dataTypeName': 'text', 'fieldName': 'candname', 'position': 4, 'renderTypeName': 'text', 'tableColumnId': 1518993, 'width': 196, 'cachedContents': {'non_null': 285, 'largest': 'Zett, Lori M', 'null': 0, 'top': [{'item': 'Taitt, Samuel A', 'count': 20}, {'item': 'Taliaferro, Phyllis', 'count': 19}, {'item': 'Taveras, Germania', 'count': 18}, {'item': 'Thakral, Jairam D', 'count': 17}, {'item': 'Thomas, Carl W', 'count': 16}, {'item': 'Thompson, Jr., William C', 'count': 15}, {'item': 'Tiraco, Joseph E', 'count': 14}, {'item': 'Toney, Vaughan', 'count': 13}, {'item': 'Toppin, Roger N', 'count': 12}, {'item': 'Torres, Mario A', 'count': 11}, {'item': 'Vallone, Jr., Peter F', 'count': 10}, {'item': 'Vallone, Peter F', 'count': 9}, {'item': 'Van Bramer, James G', 'count': 8}, {'item': 'Vann, Albert', 'count': 7}, {'item': 'Vargas, Ruben Dario', 'count': 6}, {'item': 'Vassos, Sandra', 'count': 5}, {'item': 'Vernet, Jean D', 'count': 4}, {'item': 'Viest, Nicholas D', 'count': 3}, {'item': 'Villaverde, Sergio', 'count': 2}, {'item': 'Vogel, Mark H', 'count': 1}], 'smallest': 'Aboulafia, Sandy'}, 'format': {}}, {'id': 75768836, 'name': 'OFFICECD', 'dataTypeName': 'number', 'fieldName': 'officecd', 'position': 5, 'renderTypeName': 'number', 'tableColumnId': 1518994, 'width': 196, 'cachedContents': {'non_null': 284, 'average': '4.700704225352113', 'largest': '5', 'null': 1, 'top': [{'item': '5', 'count': 20}, {'item': '1', 'count': 19}, {'item': '3', 'count': 18}, {'item': '4', 'count': 17}, {'item': '2', 'count': 16}], 'smallest': '1', 'sum': '1335'}, 'format': {}}, {'id': 75768837, 'name': 'OFFICEBORO', 'dataTypeName': 'text', 'fieldName': 'officeboro', 'position': 6, 'renderTypeName': 'text', 'tableColumnId': 1518995, 'width': 220, 'cachedContents': {'non_null': 21, 'largest': 'X', 'null': 264, 'top': [{'item': 'OFFICEBORO', 'count': 20}, {'item': 'X', 'count': 19}, {'item': 'M', 'count': 18}, {'item': 'K', 'count': 17}, {'item': 'Q', 'count': 16}, {'item': 'S', 'count': 15}], 'smallest': 'K'}, 'format': {}}, {'id': 75768838, 'name': 'OFFICEDIST', 'dataTypeName': 'number', 'fieldName': 'officedist', 'position': 7, 'renderTypeName': 'number', 'tableColumnId': 1518996, 'width': 220, 'cachedContents': {'non_null': 245, 'average': '26.33061224489796', 'largest': '51', 'null': 40, 'top': [{'item': '7', 'count': 20}, {'item': '32', 'count': 19}, {'item': '37', 'count': 18}, {'item': '28', 'count': 17}, {'item': '19', 'count': 16}, {'item': '39', 'count': 15}, {'item': '35', 'count': 14}, {'item': '42', 'count': 13}, {'item': '31', 'count': 12}, {'item': '6', 'count': 11}, {'item': '47', 'count': 10}, {'item': '20', 'count': 9}, {'item': '1', 'count': 8}, {'item': '27', 'count': 7}, {'item': '26', 'count': 6}, {'item': '10', 'count': 5}, {'item': '34', 'count': 4}, {'item': '45', 'count': 3}, {'item': '40', 'count': 2}, {'item': '12', 'count': 1}], 'smallest': '1', 'sum': '6451'}, 'format': {}}, {'id': 75768839, 'name': 'CANCLASS', 'dataTypeName': 'text', 'fieldName': 'canclass', 'position': 8, 'renderTypeName': 'text', 'tableColumnId': 1518997, 'width': 196, 'cachedContents': {'non_null': 285, 'largest': 'P', 'null': 0, 'top': [{'item': 'CANCLASS', 'count': 20}, {'item': 'P', 'count': 19}], 'smallest': 'CANCLASS'}, 'format': {}}, {'id': 75768840, 'name': 'PRIMARYPAY', 'dataTypeName': 'number', 'fieldName': 'primarypay', 'position': 9, 'renderTypeName': 'number', 'tableColumnId': 1518998, 'width': 220, 'cachedContents': {'non_null': 284, 'average': '112243.9612676056', 'largest': '2846148.00', 'null': 1, 'top': [{'item': '75350.00', 'count': 20}, {'item': '0', 'count': 19}, {'item': '91333.00', 'count': 18}, {'item': '69780.00', 'count': 17}, {'item': '22172.00', 'count': 16}, {'item': '65356.00', 'count': 15}, {'item': '11423.00', 'count': 14}, {'item': '60152.00', 'count': 13}, {'item': '75040.00', 'count': 12}, {'item': '62436.00', 'count': 11}, {'item': '42075.00', 'count': 10}, {'item': '74920.00', 'count': 9}, {'item': '38088.00', 'count': 8}, {'item': '74850.00', 'count': 7}, {'item': '89502.00', 'count': 6}, {'item': '74350.00', 'count': 5}, {'item': '58348.00', 'count': 4}, {'item': '55100.00', 'count': 3}, {'item': '508893.00', 'count': 2}, {'item': '74750.00', 'count': 1}], 'smallest': '0', 'sum': '31877285.00'}, 'format': {}}, {'id': 75768841, 'name': 'GENERALPAY', 'dataTypeName': 'number', 'fieldName': 'generalpay', 'position': 10, 'renderTypeName': 'number', 'tableColumnId': 1518999, 'width': 220, 'cachedContents': {'non_null': 284, 'average': '28753.57394366197', 'largest': '976545.00', 'null': 1, 'top': [{'item': '0', 'count': 20}, {'item': '75350.00', 'count': 19}, {'item': '201131.00', 'count': 18}, {'item': '39760.00', 'count': 17}, {'item': '57796.00', 'count': 16}, {'item': '75200.00', 'count': 15}, {'item': '68234.00', 'count': 14}, {'item': '5732.00', 'count': 13}, {'item': '58488.00', 'count': 12}, {'item': '62184.00', 'count': 11}, {'item': '44748.00', 'count': 10}, {'item': '21946.00', 'count': 9}, {'item': '70500.00', 'count': 8}], 'smallest': '0', 'sum': '8166015.00'}, 'format': {}}, {'id': 75768842, 'name': 'RUNOFFPAY', 'dataTypeName': 'number', 'fieldName': 'runoffpay', 'position': 11, 'renderTypeName': 'number', 'tableColumnId': 1519000, 'width': 208, 'cachedContents': {'non_null': 284, 'average': '7776.778169014085', 'largest': '711537.00', 'null': 1, 'top': [{'item': '0', 'count': 20}, {'item': '267331.00', 'count': 19}, {'item': '574387.00', 'count': 18}, {'item': '303270.00', 'count': 17}, {'item': '711537.00', 'count': 16}, {'item': '114407.00', 'count': 15}, {'item': '237673.00', 'count': 14}], 'smallest': '0', 'sum': '2208605.00'}, 'format': {}}, {'id': 75768843, 'name': 'TOTALPAY', 'dataTypeName': 'number', 'fieldName': 'totalpay', 'position': 12, 'renderTypeName': 'number', 'tableColumnId': 1519001, 'width': 196, 'cachedContents': {'non_null': 284, 'average': '148774.3133802817', 'largest': '4534230.00', 'null': 1, 'top': [{'item': '0', 'count': 20}, {'item': '75350.00', 'count': 19}, {'item': '150700.00', 'count': 18}, {'item': '2458534.00', 'count': 17}, {'item': '133146.00', 'count': 16}, {'item': '75200.00', 'count': 15}, {'item': '68234.00', 'count': 14}, {'item': '70664.00', 'count': 13}, {'item': '58488.00', 'count': 12}, {'item': '50112.00', 'count': 11}, {'item': '62184.00', 'count': 10}, {'item': '44748.00', 'count': 9}, {'item': '21946.00', 'count': 8}, {'item': '41656.00', 'count': 7}, {'item': '61260.00', 'count': 6}, {'item': '145850.00', 'count': 5}, {'item': '35808.00', 'count': 4}, {'item': '12172.00', 'count': 3}], 'smallest': '0', 'sum': '42251905.00'}, 'format': {}}], 'grants': [{'inherited': False, 'type': 'viewer', 'flags': ['public']}], 'metadata': {'rdfSubject': '0', 'rdfClass': '', 'attachments': [{'filename': 'Data_Dictionary_Public_Funds_Payments_FINAL.xlsx', 'assetId': '52a7652b-f286-4000-b43b-b131e8e2559e', 'blobId': '', 'name': 'Data_Dictionary_Public_Funds_Payments_FINAL.xlsx'}], 'custom_fields': {'Update': {'Automation': 'No', 'Date Made Public': '9/13/2011', 'Update Frequency': 'Historical Data'}, 'Legislative Compliance': {'Geo-coding Attached?': ''}, 'Dataset Information': {'Agency': 'Campaign Finance Board (CFB)'}}, 'rowIdentifier': '0', 'rowLabel': ''}, 'owner': {'id': '5fuc-pqz2', 'displayName': 'NYC OpenData', 'profileImageUrlLarge': '/api/users/5fuc-pqz2/profile_images/LARGE', 'profileImageUrlMedium': '/api/users/5fuc-pqz2/profile_images/THUMB', 'profileImageUrlSmall': '/api/users/5fuc-pqz2/profile_images/TINY', 'screenName': 'NYC OpenData', 'type': 'interactive', 'flags': ['mayBeStoriesCoOwner']}, 'query': {}, 'rights': ['read'], 'tableAuthor': {'id': '5fuc-pqz2', 'displayName': 'NYC OpenData', 'profileImageUrlLarge': '/api/users/5fuc-pqz2/profile_images/LARGE', 'profileImageUrlMedium': '/api/users/5fuc-pqz2/profile_images/THUMB', 'profileImageUrlSmall': '/api/users/5fuc-pqz2/profile_images/TINY', 'screenName': 'NYC OpenData', 'type': 'interactive', 'flags': ['mayBeStoriesCoOwner']}, 'tags': ['finance', 'campaign finance board', 'cfb', 'nyccfb', 'campaign finance', 'elections', 'contributions', 'politics', 'campaign', 'funding'], 'flags': ['default', 'restorable', 'restorePossibleForType']}])"
      ]
     },
     "execution_count": 13,
     "metadata": {},
     "output_type": "execute_result"
    }
   ],
   "source": [
    "# Your code here\n",
    "\n",
    "data['meta']\n"
   ]
  },
  {
   "cell_type": "markdown",
   "metadata": {},
   "source": [
    "### Create a DataFrame from your json data\n",
    "The previous two questions previewed one entry from the data object within the json file, as well as the column details associated with that data from the meta entry within the json file. Both should have 19 entries. Create a pandas DataFrame of the data. Be sure to use the information from the meta entry to add appropriate column names to your DataFrame."
   ]
  },
  {
   "cell_type": "code",
   "execution_count": null,
   "metadata": {},
   "outputs": [],
   "source": [
    "#Your code here"
   ]
  },
  {
   "cell_type": "markdown",
   "metadata": {},
   "source": [
    "### What's wrong with the first row of the DataFrame?"
   ]
  },
  {
   "cell_type": "code",
   "execution_count": null,
   "metadata": {},
   "outputs": [],
   "source": [
    "#Your code here"
   ]
  },
  {
   "cell_type": "code",
   "execution_count": null,
   "metadata": {},
   "outputs": [],
   "source": [
    "#Your answer here"
   ]
  },
  {
   "cell_type": "markdown",
   "metadata": {},
   "source": [
    "## Summary\n",
    "\n",
    "Congratulations! You've started exploring some more JSON data structures used for the web and got to practice data munging and exploring!"
   ]
  }
 ],
 "metadata": {
  "kernelspec": {
   "display_name": "Python 3",
   "language": "python",
   "name": "python3"
  },
  "language_info": {
   "codemirror_mode": {
    "name": "ipython",
    "version": 3
   },
   "file_extension": ".py",
   "mimetype": "text/x-python",
   "name": "python",
   "nbconvert_exporter": "python",
   "pygments_lexer": "ipython3",
   "version": "3.6.9"
  },
  "toc": {
   "base_numbering": 1,
   "nav_menu": {},
   "number_sections": true,
   "sideBar": true,
   "skip_h1_title": false,
   "title_cell": "Table of Contents",
   "title_sidebar": "Contents",
   "toc_cell": false,
   "toc_position": {},
   "toc_section_display": true,
   "toc_window_display": false
  }
 },
 "nbformat": 4,
 "nbformat_minor": 2
}
