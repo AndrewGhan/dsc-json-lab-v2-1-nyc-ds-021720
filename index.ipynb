{
 "cells": [
  {
   "cell_type": "markdown",
   "metadata": {},
   "source": [
    "# JSON - Lab"
   ]
  },
  {
   "cell_type": "markdown",
   "metadata": {},
   "source": [
    "## Introduction\n",
    "\n",
    "In this lab, you'll practice navigating JSON data structures."
   ]
  },
  {
   "cell_type": "markdown",
   "metadata": {},
   "source": [
    "## Objectives\n",
    "You will be able to:\n",
    "* Use the JSON module to load and parse JSON documents"
   ]
  },
  {
   "cell_type": "markdown",
   "metadata": {},
   "source": [
    "## JSON"
   ]
  },
  {
   "cell_type": "markdown",
   "metadata": {},
   "source": [
    "### Open the dataset from json"
   ]
  },
  {
   "cell_type": "code",
   "execution_count": 1,
   "metadata": {},
   "outputs": [],
   "source": [
    "import json\n",
    "f = open('nyc_2001_campaign_finance.json')\n",
    "data = json.load(f)\n"
   ]
  },
  {
   "cell_type": "markdown",
   "metadata": {},
   "source": [
    "### What is the root data type of the json file?"
   ]
  },
  {
   "cell_type": "code",
   "execution_count": 2,
   "metadata": {},
   "outputs": [
    {
     "data": {
      "text/plain": [
       "dict"
      ]
     },
     "execution_count": 2,
     "metadata": {},
     "output_type": "execute_result"
    }
   ],
   "source": [
    "type(data)"
   ]
  },
  {
   "cell_type": "markdown",
   "metadata": {},
   "source": [
    "### Navigate to the 'data' key of your loaded json object. What data type is this?"
   ]
  },
  {
   "cell_type": "code",
   "execution_count": 3,
   "metadata": {},
   "outputs": [
    {
     "data": {
      "text/plain": [
       "list"
      ]
     },
     "execution_count": 3,
     "metadata": {},
     "output_type": "execute_result"
    }
   ],
   "source": [
    "#Your code here\n",
    "type(data['data'])"
   ]
  },
  {
   "cell_type": "markdown",
   "metadata": {},
   "source": [
    "### Preview the first entry from the value returned by the 'data' key above."
   ]
  },
  {
   "cell_type": "code",
   "execution_count": 4,
   "metadata": {},
   "outputs": [
    {
     "data": {
      "text/plain": [
       "[1,\n",
       " 'E3E9CC9F-7443-43F6-94AF-B5A0F802DBA1',\n",
       " 1,\n",
       " 1315925633,\n",
       " '392904',\n",
       " 1315925633,\n",
       " '392904',\n",
       " '{\\n  \"invalidCells\" : {\\n    \"1519001\" : \"TOTALPAY\",\\n    \"1518998\" : \"PRIMARYPAY\",\\n    \"1519000\" : \"RUNOFFPAY\",\\n    \"1518999\" : \"GENERALPAY\",\\n    \"1518994\" : \"OFFICECD\",\\n    \"1518996\" : \"OFFICEDIST\",\\n    \"1518991\" : \"ELECTION\"\\n  }\\n}',\n",
       " None,\n",
       " 'CANDID',\n",
       " 'CANDNAME',\n",
       " None,\n",
       " 'OFFICEBORO',\n",
       " None,\n",
       " 'CANCLASS',\n",
       " None,\n",
       " None,\n",
       " None,\n",
       " None]"
      ]
     },
     "execution_count": 4,
     "metadata": {},
     "output_type": "execute_result"
    }
   ],
   "source": [
    "#Your code here\n",
    "data['data'][0]"
   ]
  },
  {
   "cell_type": "markdown",
   "metadata": {},
   "source": [
    "### Preview the Entry under meta -> view -> columns (the keys of three successively nested dictionaries)"
   ]
  },
  {
   "cell_type": "code",
   "execution_count": 25,
   "metadata": {},
   "outputs": [
    {
     "data": {
      "text/plain": [
       "dict_keys(['view'])"
      ]
     },
     "execution_count": 25,
     "metadata": {},
     "output_type": "execute_result"
    }
   ],
   "source": [
    "# Your code here\n",
    "A= {'data','data'}\n",
    "data['meta'].keys()\n"
   ]
  },
  {
   "cell_type": "markdown",
   "metadata": {},
   "source": [
    "### Create a DataFrame from your json data\n",
    "The previous two questions previewed one entry from the data object within the json file, as well as the column details associated with that data from the meta entry within the json file. Both should have 19 entries. Create a pandas DataFrame of the data. Be sure to use the information from the meta entry to add appropriate column names to your DataFrame."
   ]
  },
  {
   "cell_type": "code",
   "execution_count": 33,
   "metadata": {
    "scrolled": true
   },
   "outputs": [],
   "source": [
    "#Your code here\n",
    "import pandas as pd\n",
    "from pandas.io.json import json_normalize"
   ]
  },
  {
   "cell_type": "code",
   "execution_count": null,
   "metadata": {},
   "outputs": [],
   "source": [
    "df1= pd.DataFrame.from_dict(json_normalize, orient='columns')"
   ]
  },
  {
   "cell_type": "code",
   "execution_count": null,
   "metadata": {},
   "outputs": [],
   "source": []
  },
  {
   "cell_type": "code",
   "execution_count": null,
   "metadata": {},
   "outputs": [],
   "source": []
  },
  {
   "cell_type": "code",
   "execution_count": 35,
   "metadata": {},
   "outputs": [],
   "source": [
    "df = pd.DataFrame.from_dict(json_normalize(data), orient='columns')"
   ]
  },
  {
   "cell_type": "code",
   "execution_count": 36,
   "metadata": {},
   "outputs": [
    {
     "data": {
      "text/html": [
       "<div>\n",
       "<style scoped>\n",
       "    .dataframe tbody tr th:only-of-type {\n",
       "        vertical-align: middle;\n",
       "    }\n",
       "\n",
       "    .dataframe tbody tr th {\n",
       "        vertical-align: top;\n",
       "    }\n",
       "\n",
       "    .dataframe thead th {\n",
       "        text-align: right;\n",
       "    }\n",
       "</style>\n",
       "<table border=\"1\" class=\"dataframe\">\n",
       "  <thead>\n",
       "    <tr style=\"text-align: right;\">\n",
       "      <th></th>\n",
       "      <th>data</th>\n",
       "      <th>meta.view.id</th>\n",
       "      <th>meta.view.name</th>\n",
       "      <th>meta.view.attribution</th>\n",
       "      <th>meta.view.averageRating</th>\n",
       "      <th>meta.view.category</th>\n",
       "      <th>meta.view.createdAt</th>\n",
       "      <th>meta.view.description</th>\n",
       "      <th>meta.view.displayType</th>\n",
       "      <th>meta.view.downloadCount</th>\n",
       "      <th>...</th>\n",
       "      <th>meta.view.tableAuthor.id</th>\n",
       "      <th>meta.view.tableAuthor.displayName</th>\n",
       "      <th>meta.view.tableAuthor.profileImageUrlLarge</th>\n",
       "      <th>meta.view.tableAuthor.profileImageUrlMedium</th>\n",
       "      <th>meta.view.tableAuthor.profileImageUrlSmall</th>\n",
       "      <th>meta.view.tableAuthor.screenName</th>\n",
       "      <th>meta.view.tableAuthor.type</th>\n",
       "      <th>meta.view.tableAuthor.flags</th>\n",
       "      <th>meta.view.tags</th>\n",
       "      <th>meta.view.flags</th>\n",
       "    </tr>\n",
       "  </thead>\n",
       "  <tbody>\n",
       "    <tr>\n",
       "      <td>0</td>\n",
       "      <td>[[1, E3E9CC9F-7443-43F6-94AF-B5A0F802DBA1, 1, ...</td>\n",
       "      <td>8dhd-zvi6</td>\n",
       "      <td>2001 Campaign Payments</td>\n",
       "      <td>Campaign Finance Board (CFB)</td>\n",
       "      <td>0</td>\n",
       "      <td>City Government</td>\n",
       "      <td>1315950830</td>\n",
       "      <td>A listing of public funds payments for candida...</td>\n",
       "      <td>table</td>\n",
       "      <td>1470</td>\n",
       "      <td>...</td>\n",
       "      <td>5fuc-pqz2</td>\n",
       "      <td>NYC OpenData</td>\n",
       "      <td>/api/users/5fuc-pqz2/profile_images/LARGE</td>\n",
       "      <td>/api/users/5fuc-pqz2/profile_images/THUMB</td>\n",
       "      <td>/api/users/5fuc-pqz2/profile_images/TINY</td>\n",
       "      <td>NYC OpenData</td>\n",
       "      <td>interactive</td>\n",
       "      <td>[mayBeStoriesCoOwner]</td>\n",
       "      <td>[finance, campaign finance board, cfb, nyccfb,...</td>\n",
       "      <td>[default, restorable, restorePossibleForType]</td>\n",
       "    </tr>\n",
       "  </tbody>\n",
       "</table>\n",
       "<p>1 rows × 60 columns</p>\n",
       "</div>"
      ],
      "text/plain": [
       "                                                data meta.view.id  \\\n",
       "0  [[1, E3E9CC9F-7443-43F6-94AF-B5A0F802DBA1, 1, ...    8dhd-zvi6   \n",
       "\n",
       "           meta.view.name         meta.view.attribution  \\\n",
       "0  2001 Campaign Payments  Campaign Finance Board (CFB)   \n",
       "\n",
       "   meta.view.averageRating meta.view.category  meta.view.createdAt  \\\n",
       "0                        0    City Government           1315950830   \n",
       "\n",
       "                               meta.view.description meta.view.displayType  \\\n",
       "0  A listing of public funds payments for candida...                 table   \n",
       "\n",
       "   meta.view.downloadCount  ...  meta.view.tableAuthor.id  \\\n",
       "0                     1470  ...                 5fuc-pqz2   \n",
       "\n",
       "   meta.view.tableAuthor.displayName  \\\n",
       "0                       NYC OpenData   \n",
       "\n",
       "   meta.view.tableAuthor.profileImageUrlLarge  \\\n",
       "0   /api/users/5fuc-pqz2/profile_images/LARGE   \n",
       "\n",
       "   meta.view.tableAuthor.profileImageUrlMedium  \\\n",
       "0    /api/users/5fuc-pqz2/profile_images/THUMB   \n",
       "\n",
       "   meta.view.tableAuthor.profileImageUrlSmall  \\\n",
       "0    /api/users/5fuc-pqz2/profile_images/TINY   \n",
       "\n",
       "   meta.view.tableAuthor.screenName meta.view.tableAuthor.type  \\\n",
       "0                      NYC OpenData                interactive   \n",
       "\n",
       "   meta.view.tableAuthor.flags  \\\n",
       "0        [mayBeStoriesCoOwner]   \n",
       "\n",
       "                                      meta.view.tags  \\\n",
       "0  [finance, campaign finance board, cfb, nyccfb,...   \n",
       "\n",
       "                                 meta.view.flags  \n",
       "0  [default, restorable, restorePossibleForType]  \n",
       "\n",
       "[1 rows x 60 columns]"
      ]
     },
     "execution_count": 36,
     "metadata": {},
     "output_type": "execute_result"
    }
   ],
   "source": [
    "df.head()"
   ]
  },
  {
   "cell_type": "markdown",
   "metadata": {},
   "source": [
    "### What's wrong with the first row of the DataFrame?"
   ]
  },
  {
   "cell_type": "code",
   "execution_count": null,
   "metadata": {},
   "outputs": [],
   "source": [
    "#Your code here"
   ]
  },
  {
   "cell_type": "code",
   "execution_count": null,
   "metadata": {},
   "outputs": [],
   "source": [
    "#Your answer here"
   ]
  },
  {
   "cell_type": "markdown",
   "metadata": {},
   "source": [
    "## Summary\n",
    "\n",
    "Congratulations! You've started exploring some more JSON data structures used for the web and got to practice data munging and exploring!"
   ]
  }
 ],
 "metadata": {
  "kernelspec": {
   "display_name": "Python 3",
   "language": "python",
   "name": "python3"
  },
  "language_info": {
   "codemirror_mode": {
    "name": "ipython",
    "version": 3
   },
   "file_extension": ".py",
   "mimetype": "text/x-python",
   "name": "python",
   "nbconvert_exporter": "python",
   "pygments_lexer": "ipython3",
   "version": "3.6.9"
  },
  "toc": {
   "base_numbering": 1,
   "nav_menu": {},
   "number_sections": true,
   "sideBar": true,
   "skip_h1_title": false,
   "title_cell": "Table of Contents",
   "title_sidebar": "Contents",
   "toc_cell": false,
   "toc_position": {},
   "toc_section_display": true,
   "toc_window_display": false
  }
 },
 "nbformat": 4,
 "nbformat_minor": 2
}
